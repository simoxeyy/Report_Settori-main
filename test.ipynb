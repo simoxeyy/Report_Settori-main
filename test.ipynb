{
 "cells": [
  {
   "cell_type": "code",
   "execution_count": 10,
   "metadata": {},
   "outputs": [
    {
     "name": "stdout",
     "output_type": "stream",
     "text": [
      "agnello\n"
     ]
    }
   ],
   "source": [
    "import pandas as pd\n",
    "\n",
    "class Network():\n",
    "    def __init__(self) -> None:\n",
    "        pass\n",
    "        \n",
    "    def execute_network(self):\n",
    "        self.x['b'] = 1\n",
    "\n",
    "class Project():\n",
    "    def __init__(self, settore) -> None:\n",
    "        self.settore = settore\n",
    "\n",
    "\n",
    "class ProjectAgridata(Project, Network):\n",
    "    def __init__(self, settore) -> None:\n",
    "        Project.__init__(self, settore)\n",
    "        Network.__init__(self)\n",
    "        self.df = pd.DataFrame({'a':[1,2,3]})\n",
    "        self.serie = 'serie1'\n",
    "        self.config = {'config':'4'}\n",
    "\n",
    "    def start(self):\n",
    "        print(self.settore)\n",
    "        self.execute_network()\n",
    "\n",
    "\n",
    "p = ProjectAgridata('agnello')\n",
    "p.start()"
   ]
  }
 ],
 "metadata": {
  "kernelspec": {
   "display_name": "base",
   "language": "python",
   "name": "python3"
  },
  "language_info": {
   "codemirror_mode": {
    "name": "ipython",
    "version": 3
   },
   "file_extension": ".py",
   "mimetype": "text/x-python",
   "name": "python",
   "nbconvert_exporter": "python",
   "pygments_lexer": "ipython3",
   "version": "3.10.10"
  }
 },
 "nbformat": 4,
 "nbformat_minor": 2
}
